{
 "cells": [
  {
   "cell_type": "markdown",
   "metadata": {},
   "source": [
    "# Practical 2 : Generative and Discriminative Models\n"
   ]
  },
  {
   "cell_type": "markdown",
   "metadata": {},
   "source": [
    "In this practical, we will compare the Naïve Bayes Classifier (NBC) and Logistic Regression on six\n",
    "datasets. As part of the practical you should briefly read the following paper:\n",
    "\n"
   ]
  },
  {
   "cell_type": "markdown",
   "metadata": {},
   "source": [
    "**On Discriminative vs. Generative classifiers: A comparison of logistic regression\n",
    "and naive Bayes**  \n",
    "*Andrew Y. Ng and Michael I. Jordan*  \n",
    "Advances in Neural Information Processing Systems (NIPS) 2001.\n",
    "\n",
    "The paper is available on OLAT. "
   ]
  },
  {
   "cell_type": "markdown",
   "metadata": {},
   "source": [
    "You should read the Introduction and the Experiments sections. The goal of this practical is\n",
    "to qualitatively reproduce some of the experimental results in this paper. You are strongly\n",
    "encouraged to read the rest of the paper, which is rather short and straightforward to read,\n",
    "though some of you may want to skip the formal proofs."
   ]
  },
  {
   "cell_type": "markdown",
   "metadata": {},
   "source": [
    "## Naïve Bayes Classifier"
   ]
  },
  {
   "cell_type": "markdown",
   "metadata": {},
   "source": [
    "You should implement a Naïve Bayes Classifier directly in python. To keep your code tidy,\n",
    "we recommend implementing it as a class. Make sure that your classifier can handle binary, continuous and categorical features, and an arbitrary number of class labels. Suppose the data has 3\n",
    "different features, the first being binary, the second being continuous and the third being categorical, and that there are\n",
    "4 classes. Write an implementation that you can initialise as follows:\n",
    "\n",
    "    nbc = NBC(feature_types=['b', 'r', 'c'], num_classes=4)"
   ]
  },
  {
   "cell_type": "markdown",
   "metadata": {},
   "source": [
    "Along the lines of classifiers provided in sklearn, you want to implement two more functions,\n",
    "**fit** and **predict**. \n",
    "Recall the joint distribution of a generative model: $p(\\mathbf{x}, y \\mid \\theta, \\pi) = p(y | \\pi) \\cdot p(\\mathbf{x} \\mid y, \\theta)$.\n",
    "The fit function is expected to estimate all the parameters ($\\theta$ and $\\pi$) of the NBC. The predict function is expected to compute the probabilities that the new input belongs to all classes and\n",
    "then return the class that has the largest probability.\n",
    "\n",
    "    nbc.fit(X_train, y_train)\n",
    "    ypredicted = nbc.predict(X_test)\n",
    "    test_accuracy = np.mean(ypredicted == ytest)"
   ]
  },
  {
   "cell_type": "markdown",
   "metadata": {},
   "source": [
    "Here we import the libraries. "
   ]
  },
  {
   "cell_type": "code",
   "execution_count": null,
   "metadata": {},
   "outputs": [],
   "source": [
    "%matplotlib inline\n",
    "import pylab\n",
    "pylab.rcParams['figure.figsize'] = (10., 10.)\n",
    "\n",
    "import pickle as cp\n",
    "import matplotlib.pyplot as plt\n",
    "import numpy as np\n",
    "from scipy.stats import norm\n",
    "from scipy.special import logsumexp\n",
    "import pandas as pd\n",
    "from sklearn.linear_model import LogisticRegression"
   ]
  },
  {
   "cell_type": "markdown",
   "metadata": {},
   "source": [
    "Before implementing NBC, we suggest you first implement the three types of the distributions of the parameters of NBC. Your implementation should have two functions: **estimate** and **get_probability**. The estimate function takes some data as input and computes the maximum likelihood estimators (MLE) for the parameters $\\theta$ of the distribution $p(x | \\theta)$. The get_probability function takes a new input value $x_{new}$ and returns $p(x_{new} | \\theta)$. For example, in the case of continuous features, we can use the Gaussian distribution. The estimate function will find the parameters $\\mu$ and $\\sigma$ for the Gaussian distribution with respect to the input data, and the function get_probability will return $\\mathcal{N}(x_{new} \\mid \\mu, \\sigma)$. \n",
    "\n",
    "![alt text](pics/mle_4.png)\n"
   ]
  },
  {
   "cell_type": "markdown",
   "metadata": {},
   "source": [
    "You can import statistic libraries for the implementation of the distributions. We recommend using the statistical functions provided by `scipy.stats`. Read the documentation here: https://docs.scipy.org/doc/scipy/reference/stats.html\n"
   ]
  },
  {
   "cell_type": "code",
   "execution_count": 34,
   "metadata": {},
   "outputs": [],
   "source": [
    "# Distribution for continuous features\n",
    "class ContFeatureParam:\n",
    "\n",
    "    def estimate(self, X):\n",
    "        # TODO: Estimate the parameters for the Gaussian distribution \n",
    "        # so that it best describes the input data X\n",
    "        # The code below is just for compilation. \n",
    "        # You need to replace it by your own code.\n",
    "        ###################################################\n",
    "        ##### YOUR CODE STARTS HERE #######################\n",
    "        ###################################################\n",
    "\n",
    "        mean = X.mean()\n",
    "        variance = X.var(ddof=0)\n",
    "        return mean, variance\n",
    "\n",
    "        ###################################################\n",
    "        ##### YOUR CODE ENDS HERE #########################\n",
    "        ###################################################\n",
    "\n",
    "    def get_probability(self, val, theta):\n",
    "        # TODO: returns the density value of the input value val\n",
    "        # Note the input value val could be a vector rather than a single value\n",
    "        # The code below is just for compilation. \n",
    "        # You need to replace it by your own code.\n",
    "        return norm.pdf(val, loc=theta[0], scale=(theta[1]+10**-9)**0.5)+10**-9\n",
    "\n",
    "\n",
    "# Distribution for binary features\n",
    "class BinFeatureParam:\n",
    "\n",
    "    def estimate(self, X):\n",
    "        # TODO: Estimate the parameters for the Bernoulli distribution\n",
    "        # so that it best describes the input data X\n",
    "        # The code below is just for compilation.\n",
    "        # You need to replace it by your own code.\n",
    "        ###################################################\n",
    "        ##### YOUR CODE STARTS HERE #######################\n",
    "        ###################################################\n",
    "        occurences = X.shape[0]\n",
    "\n",
    "        unique, counts = np.unique(X, return_counts=True)\n",
    "        if len(unique) > 2:\n",
    "           raise AssertionError(\"more than 2 categories in binary\")\n",
    "\n",
    "        prob = (counts[0]+1) / (occurences + 2)\n",
    "\n",
    "        return prob\n",
    "        ###################################################\n",
    "        ##### YOUR CODE ENDS HERE #########################\n",
    "        ###################################################\n",
    "\n",
    "    def get_probability(self, val, p):\n",
    "        # TODO: returns the density value of the input value val\n",
    "        # The code below is just for compilation.\n",
    "        # You need to replace it by your own code.\n",
    "        ###################################################\n",
    "        ##### YOUR CODE STARTS HERE #######################\n",
    "        ###################################################\n",
    "        probVector = np.where(val == 0, p, 1-p) \n",
    "        return probVector\n",
    "        ###################################################\n",
    "        ##### YOUR CODE ENDS HERE #########################\n",
    "        ###################################################\n",
    "\n",
    "\n",
    "# Distribution for categorical features\n",
    "class CatFeatureParam:\n",
    "\n",
    "    def estimate(self, X):\n",
    "\n",
    "        # TODO: Estimate the parameters for the Multinoulli distribution\n",
    "        # so that it best describes the input data X\n",
    "        # The code below is just for compilation.\n",
    "        # You need to replace it by your own code.\n",
    "        ###################################################\n",
    "        ##### YOUR CODE STARTS HERE #######################\n",
    "        ###################################################\n",
    "        occurences = X.shape[0]\n",
    "        unique_cat = np.unique(X)\n",
    "        prob = np.zeros(unique_cat.shape)               \n",
    "\n",
    "        for indx in range(len(unique_cat)):\n",
    "            prob[indx] = (np.count_nonzero(X == unique_cat[indx])+1) / (occurences+len(unique_cat))\n",
    "        return prob\n",
    "        ###################################################\n",
    "        ##### YOUR CODE ENDS HERE #########################\n",
    "        ###################################################\n",
    "\n",
    "    def get_probability(self, val, theta):\n",
    "        # TODO: returns the density value of the input value val\n",
    "        # The code below is just for compilation.\n",
    "        # You need to replace it by your own code.\n",
    "        ###################################################\n",
    "        ##### YOUR CODE STARTS HERE #######################\n",
    "        ###################################################\n",
    "        prob = np.zeros(len(val))\n",
    "        theta = theta[:np.where(theta == 0)[0][0]]\n",
    "        for i in range(len(theta)):\n",
    "            prob = np.where(val == i, theta[i], prob)\n",
    "        prob = np.where(prob == 0, 10**-6, prob)\n",
    "        return prob\n",
    "        ###################################################\n",
    "        ##### YOUR CODE ENDS HERE #########################\n",
    "        ###################################################"
   ]
  },
  {
   "cell_type": "markdown",
   "metadata": {},
   "source": [
    "Let us now implement a class for NBC. We'll keep it simple and try to follow the sklearn models. We'll have an init function, fit function and predict function."
   ]
  },
  {
   "cell_type": "markdown",
   "metadata": {},
   "source": [
    "**Hints for function fit**: Recall the joint distribution of a generative model: $p(\\mathbf{x}, y \\mid \\theta, \\pi) = p(y | \\pi) \\cdot p(\\mathbf{x} \\mid y, \\theta)$. \n",
    "The fit function will estimate the parameters for NBC based on the training data. \n",
    "Here we give you some hints how to estimate the $\\theta$ in $p(\\mathbf{x} \\mid y, \\theta)$. \n",
    "\n",
    "For each class $c$, we want to estimate the $\\theta_c$ for the distribution $p(\\mathbf{x} \\mid y = c, \\theta_c)$. \n",
    "Since the assumption of NBC that the features are conditionally independent given the class $c$, the class conditional distribution is a product of $D$ distributions, one for each feature: $p(\\mathbf{x} \\mid y = c, \\theta_c) = \\prod_{j}^{D} p(x_j \\mid y = c, \\theta_{jc})$. Hence, we need to estimate the $\\theta_{jc}$ based on the data with class $c$ and feature $j$. \n",
    "\n",
    "![alt text](pics/fit_4.png)\n"
   ]
  },
  {
   "cell_type": "markdown",
   "metadata": {},
   "source": [
    "**Hints for function predict**: The predict function should compute the probabilities $p(y = c \\mid \\mathbf{x}_{new}, \\pi, \\theta)$ for the new inputs $\\mathbf{x}_{new}$ on all classes by applying the Bayes rule:\n",
    "\n",
    "$$p(y = c \\mid \\mathbf{x}_{new}, \\pi, \\theta) = \\frac{p(y = c \\mid \\pi_c) \\cdot p(\\mathbf{x}_{new} \\mid y=c, \\theta)}{\\sum^{C}_{c'=1}p(y=c' \\mid \\pi_{c'}) \\cdot p(\\mathbf{x}_{new} \\mid y=c', \\theta_{c'})},$$\n",
    "\n",
    "and then return the class that has the largest probability:\n",
    "\n",
    "$$y_{predict} = \\underset{c}{arg\\,\\max} \\, {p(y = c \\mid \\mathbf{x}_{new}, \\theta_c)}.$$\n",
    "\n",
    "Here we give you some hints on the computation of $p(\\mathbf{x}_{new} \\mid y=c, \\theta_c)$. \n",
    "Due to the conditional independence assumption, we have $p(\\mathbf{x}_{new} \\mid y=c, \\theta_c) = \\prod_{j}^{D} p(x^j_{new} \\mid y = c, \\theta_{jc})$. Since we have got the parameters $\\theta_{jc}$ in the fit phase,  we can use them to compute the probabilities for the new data. \n",
    "\n",
    "![alt text](pics/predict_3.png)"
   ]
  },
  {
   "cell_type": "code",
   "execution_count": 35,
   "metadata": {},
   "outputs": [],
   "source": [
    "class NBC:\n",
    "    # Inputs:\n",
    "    #   feature_types: the array of the types of the features, e.g., feature_types=['r', 'r', 'r', 'r']\n",
    "    #   num_classes: number of classes of labels\n",
    "\n",
    "\n",
    "    def __init__(self, feature_types=[], num_classes=0):\n",
    "\n",
    "\n",
    "        # The code below is just for compilation.\n",
    "        # You need to replace it by your own code.\n",
    "        ###################################################\n",
    "        ##### YOUR CODE STARTS HERE #######################\n",
    "        ###################################################\n",
    "\n",
    "        self.pi = [] # probability of class y\n",
    "        self.feature_types = np.array(feature_types)\n",
    "        self.total_features = len(feature_types)\n",
    "        self.num_classes = num_classes\n",
    "        self.uclass = np.unique(np.array(y)) # unique classes in dataset\n",
    "        self.cont = ContFeatureParam()\n",
    "        self.bin = BinFeatureParam()\n",
    "        self.cat = CatFeatureParam()\n",
    "\n",
    "        ###################################################\n",
    "        ##### YOUR CODE ENDS HERE #########################\n",
    "        ###################################################\n",
    "\n",
    "    # The function uses the input data to estimate all the parameters of the NBC\n",
    "    # You should use the parameters based on the types of the features\n",
    "    def fit(self, X, y):\n",
    "        # The code below is just for compilation.\n",
    "        # You need to replace it by your own code.\n",
    "        ###################################################\n",
    "        ##### YOUR CODE STARTS HERE #######################\n",
    "        ###################################################\n",
    "        X = np.array(X)\n",
    "\n",
    "\n",
    "        self.theta = np.zeros((self.num_classes, self.total_features, 20)) #Theta is 3 dimensional array which stores probabilities\n",
    "                                                                            #for all possible data (cont, binary, multinoulli)\n",
    "\n",
    "\n",
    "        for classnr in range(self.num_classes):\n",
    "            self.pi.append(y[y == self.uclass[classnr]].size / y.size)\n",
    "            for feature in range(self.total_features):\n",
    "                obs = np.array(X[y == self.uclass[classnr], feature]) # observations in X for specific class and feature\n",
    "                if self.feature_types[feature] == 'r':\n",
    "                    self.theta[classnr, feature, 0:2] = self.cont.estimate(obs)\n",
    "                if self.feature_types[feature] == 'b':\n",
    "                    self.theta[classnr, feature, 0] = self.bin.estimate(obs)\n",
    "                if self.feature_types[feature] == 'c':\n",
    "                    prob = self.cat.estimate(obs)\n",
    "                    self.theta[classnr, feature, range(len(prob))] = prob\n",
    "        return self\n",
    "\n",
    "\n",
    "        ###################################################\n",
    "        ##### YOUR CODE ENDS HERE #########################\n",
    "        ###################################################\n",
    "\n",
    "    # The function takes the data X as input, and predicts the class for the data\n",
    "    def predict(self, X):\n",
    "\n",
    "        numerator = np.ones((X.shape[0], self.num_classes)) * np.log(self.pi)\n",
    "\n",
    "        for Class in range(self.num_classes):       #bayes formula\n",
    "            for feature in range(self.total_features):\n",
    "                if self.feature_types[feature] == 'r':\n",
    "                    numerator[:, Class] += np.log(self.cont.get_probability(X[:, feature], self.theta[Class, feature, 0:2]))\n",
    "                if self.feature_types[feature] == 'b':\n",
    "                    numerator[:, Class] += np.log(self.bin.get_probability(X[:, feature], self.theta[Class, feature, 0]))\n",
    "                if self.feature_types[feature] == 'c':\n",
    "                    numerator[:, Class] += np.log(self.cat.get_probability(X[:, feature], self.theta[Class, feature, :]))\n",
    "        denominator = logsumexp(numerator, axis=1)\n",
    "\n",
    "        self.pi.clear()\n",
    "        return self.uclass[np.argmax(numerator - denominator[:, np.newaxis], axis=1)]"
   ]
  },
  {
   "cell_type": "markdown",
   "metadata": {},
   "source": [
    "**Implementation Issues**\n",
    "- Fell free to add auxiliary functions. \n",
    "- Don't forget to compute $p(y=c | \\pi)$ \n",
    "- Remember to do all the calculations in log space to avoid running into underflow issues. Read more: (Mur) Chapter 3.5.3\n",
    "- Your implementation should be able to handle missing values\n",
    "- As far as possible use matrix operations. So assume that Xtrain, ytrain, Xtest will all\n",
    "be numpy arrays. Try and minimise your use of python loops. (In general, looping over\n",
    "classes or features is OK, but looping over data is probably not a good idea.)\n",
    "- The variance parameter for Gaussian distributions should never be exactly 0, so in\n",
    "case your calculated variance is 0, you may want to set it to a small value such as 1e − 6.\n",
    "Note that this is essential to ensure that your code never encounters division by zero or\n",
    "taking logarithms of 0 errors. Also, you want to ensure that the estimates for the parameter for the Bernoulli or Multinoulli random variables\n",
    "is never exactly 0 or 1. For this reason you should consider using Laplace smoothing (https://en.wikipedia.org/wiki/Additive_smoothing).\n"
   ]
  },
  {
   "cell_type": "markdown",
   "metadata": {},
   "source": [
    "You can use the below code to do sanity check of your implementation using the iris dataset. All features of the iris dataset are continuous, so you do not need to implement all types of feature parameters to check your code. \n",
    "\n",
    "You should expect your implementation has an accuracy larger than 90%. "
   ]
  },
  {
   "cell_type": "code",
   "execution_count": 11,
   "metadata": {},
   "outputs": [
    {
     "name": "stdout",
     "output_type": "stream",
     "text": [
      "Accuracy: 0.9666666666666667\n"
     ]
    }
   ],
   "source": [
    "from sklearn.datasets import load_iris\n",
    "iris = load_iris()\n",
    "X, y = iris['data'], iris['target']\n",
    "\n",
    "N, D = X.shape\n",
    "Ntrain = int(0.8 * N)\n",
    "shuffler = np.random.permutation(N)\n",
    "Xtrain = X[shuffler[:Ntrain]]\n",
    "ytrain = y[shuffler[:Ntrain]]\n",
    "Xtest = X[shuffler[Ntrain:]]\n",
    "ytest = y[shuffler[Ntrain:]]\n",
    "\n",
    "\n",
    "nbc_iris = NBC(feature_types=['r','r','r','r'], num_classes=3)\n",
    "nbc_iris.fit(Xtrain, ytrain)\n",
    "yhat = nbc_iris.predict(Xtest)\n",
    "test_accuracy = np.mean(yhat == ytest)\n",
    "\n",
    "print(\"Accuracy:\", test_accuracy)"
   ]
  },
  {
   "cell_type": "code",
   "execution_count": 5,
   "metadata": {},
   "outputs": [
    {
     "data": {
      "text/plain": [
       "(120,)"
      ]
     },
     "execution_count": 5,
     "metadata": {},
     "output_type": "execute_result"
    }
   ],
   "source": [
    "ytrain.shape"
   ]
  },
  {
   "cell_type": "markdown",
   "metadata": {},
   "source": [
    "## Logistic Regression"
   ]
  },
  {
   "cell_type": "markdown",
   "metadata": {},
   "source": [
    "For logistic regression, you should use the implementation in sklearn. Adding the following\n",
    "line will import the LR model.\n",
    "\n",
    "    from sklearn.linear_model import LogisticRegression"
   ]
  },
  {
   "cell_type": "markdown",
   "metadata": {},
   "source": [
    "Read the information provided on the following links to understand some details about how the\n",
    "logistic regression model is implemented in scikit-learn.\n",
    "- http://scikit-learn.org/stable/modules/linear_model.html#logistic-regression\n",
    "- http://scikit-learn.org/stable/modules/generated/sklearn.linear_model.LogisticRegression.html#sklearn.linear_model.LogisticRegression"
   ]
  },
  {
   "cell_type": "markdown",
   "metadata": {},
   "source": [
    "## Comparing NBC and LR"
   ]
  },
  {
   "cell_type": "markdown",
   "metadata": {},
   "source": [
    "### Experiments\n",
    "\n",
    "You will compare the classification error of the NBC and LR trained on increasingly\n",
    "larger training datasets. Because the datasets are so small, you should do this multiple times and\n",
    "average the classification error. One run should look as follows:\n",
    "- Shuffle the data, put 20% aside for testing.\n",
    "    \n",
    "    ```N, D = X.shape\n",
    "    Ntrain = int(0.8 * N)\n",
    "    shuffler = np.random.permutation(N)\n",
    "    Xtrain = X[shuffler[:Ntrain]]\n",
    "    ytrain = y[shuffler[:Ntrain]]\n",
    "    Xtest = X[shuffler[Ntrain:]]\n",
    "    ytest = y[shuffler[Ntrain:]]\n",
    "    \n",
    "    ```  \n",
    "\n",
    "\n",
    "- Train the classifiers with increasingly more data. For example, we can train classifiers with 10%, 20%, ..., 100% of the training data. For each case store the classification errors on the test set of the classifiers.\n",
    "\n",
    "You may want to repeat this with at least 200 random permutations (possibly as large as 1000)\n",
    "to average out the test error across the runs. In the end, you will get average test errors as a\n",
    "function of the size of the training data. Plot these curves for NBC and LR on the datasets."
   ]
  },
  {
   "cell_type": "code",
   "execution_count": 12,
   "metadata": {},
   "outputs": [],
   "source": [
    "# inputs:\n",
    "#   nbc: Naive Bayes Classifier\n",
    "#   lr: Logistic Regression Classifier\n",
    "#   X, y: data\n",
    "#   num_runs: we need repeat num_runs times and store average results\n",
    "#   num_splits: we want to compare the two models on increasingly larger training sets.\n",
    "#               num_splits defines the number of increasing steps. \n",
    "# outputs:\n",
    "#   the arrays of the test errors across the runs of the two classifiers \n",
    "def compareNBCvsLR(nbc, lr, X, y, num_runs=200, num_splits=10):\n",
    "    # The code below is just for compilation. \n",
    "    # You need to replace it by your own code.\n",
    "    ###################################################\n",
    "    ##### YOUR CODE STARTS HERE #######################\n",
    "    ###################################################\n",
    "    tst_errs_nbc = np.zeros((num_splits,num_runs))\n",
    "    tst_errs_lr = np.zeros((num_splits,num_runs))#create the error matrix\n",
    "    N, D = X.shape\n",
    "    ratio=np.linspace(0,1,num_splits+2)[1:][:-1]#drop the first and last value because they are '0 'and '1'\n",
    "    Ntrain = [int(ratio[i] * N) for i in range(ratio.shape[0])]#create the ratios' array\n",
    "    for k in range(num_runs):#run 'num_runs' times\n",
    "        shuffler = np.random.permutation(N)\n",
    "        for i in range(len(Ntrain)):\n",
    "            Xtrain = X[shuffler[:Ntrain[i]]]\n",
    "            ytrain = y[shuffler[:Ntrain[i]]]\n",
    "            Xtest = X[shuffler[Ntrain[i]:]]\n",
    "            ytest = y[shuffler[Ntrain[i]:]]#devide the train and test set\n",
    "            nbc.fit(Xtrain, ytrain)\n",
    "            lr.fit(Xtrain, ytrain)#tarin the models\n",
    "            y_lr_predict = lr.predict(Xtest)\n",
    "            y_nbc_predict = nbc.predict(Xtest)#get the predict outcome\n",
    "            tst_errs_lr[i,k] = np.mean(y_lr_predict == ytest)\n",
    "            tst_errs_nbc[i,k] = np.mean(y_nbc_predict == ytest)#get the Correct rate\n",
    "    return tst_errs_nbc.mean(axis=1), tst_errs_lr.mean(axis=1)# return the mean of correct rate\n",
    "    ###################################################\n",
    "    ##### YOUR CODE ENDS HERE #########################\n",
    "    ###################################################"
   ]
  },
  {
   "cell_type": "markdown",
   "metadata": {},
   "source": [
    "The utility function below defines the function for plotting. "
   ]
  },
  {
   "cell_type": "code",
   "execution_count": 13,
   "metadata": {},
   "outputs": [],
   "source": [
    "def makePlot(nbc_perf, lr_perf, title=None):\n",
    "    fig = plt.figure()\n",
    "    ax = fig.add_subplot(1, 1, 1)\n",
    "\n",
    "    ax.tick_params(axis='both', labelsize=20)\n",
    "\n",
    "    ax.set_xlabel('Percent of training data used', fontsize=20)\n",
    "    ax.set_ylabel('Classification Error', fontsize=20)\n",
    "    if title is not None: ax.set_title(title, fontsize=25)\n",
    "\n",
    "    xaxis_scale = [(i + 1) * 10 for i in range(10)]\n",
    "    plt.plot(xaxis_scale, nbc_perf, label='Naive Bayes')\n",
    "    plt.plot(xaxis_scale, lr_perf, label='Logistic Regression', linestyle='dashed')\n",
    "    \n",
    "    ax.legend(loc='upper right', fontsize=20)"
   ]
  },
  {
   "cell_type": "markdown",
   "metadata": {},
   "source": [
    "### Datasets"
   ]
  },
  {
   "cell_type": "markdown",
   "metadata": {},
   "source": [
    "Tasks: For each dataset,\n",
    "1. prepare the data for the two classifiers\n",
    "2. compare the two classifiers on the dataset and generate the plots\n",
    "3. write a short report of how you prepare the data and your observations of the comparison "
   ]
  },
  {
   "cell_type": "markdown",
   "metadata": {},
   "source": [
    "**Dataset 1: Iris Dataset**\n",
    "\n",
    "https://scikit-learn.org/stable/auto_examples/datasets/plot_iris_dataset.html"
   ]
  },
  {
   "cell_type": "code",
   "execution_count": 14,
   "metadata": {},
   "outputs": [
    {
     "data": {
      "image/png": "[encoded data removed]",
      "text/plain": [
       "<Figure size 720x720 with 1 Axes>"
      ]
     },
     "metadata": {
      "needs_background": "light"
     },
     "output_type": "display_data"
    }
   ],
   "source": [
    "# TODO: insert your code for experiments\n",
    "###################################################\n",
    "##### YOUR CODE STARTS HERE #######################\n",
    "###################################################\n",
    "from sklearn.datasets import load_iris\n",
    "iris_obj = load_iris()\n",
    "# the code transform the iris dataset to a dataframe\n",
    "iris = pd.DataFrame(iris_obj.data, columns=iris_obj.feature_names,index=pd.Index([i for i in range(iris_obj.data.shape[0])])).join(pd.DataFrame(iris_obj.target, columns=pd.Index([\"species\"]), index=pd.Index([i for i in range(iris_obj.target.shape[0])])))\n",
    "#iris.info()\n",
    "X=np.array(iris[['sepal length (cm)','sepal width (cm)','petal length (cm)','petal width (cm)']].values.tolist())\n",
    "y=np.array(iris[['species']].values.tolist()).T.reshape(len(iris[['species']]))\n",
    "nbc_iris = NBC(feature_types=['r','r','r','r'], num_classes=3)\n",
    "lr_iris = LogisticRegression(solver='newton-cg')#build the model\n",
    "tst_errs_nbc_iris, tst_errs_lr_iris=compareNBCvsLR(nbc_iris, lr_iris, X, y, num_runs=10)#Here I just use 10 times to get average in order to save time\n",
    "makePlot(tst_errs_nbc_iris,tst_errs_lr_iris)\n",
    "###################################################\n",
    "##### YOUR CODE ENDS HERE #########################\n",
    "###################################################"
   ]
  },
  {
   "cell_type": "markdown",
   "metadata": {},
   "source": [
    "**Dataset 2: Voting Dataset**\n",
    "\n",
    "https://archive.ics.uci.edu/ml/datasets/congressional+voting+records\n"
   ]
  },
  {
   "cell_type": "code",
   "execution_count": 36,
   "metadata": {
    "scrolled": true
   },
   "outputs": [
    {
     "data": {
      "image/png": "[encoded data removed]",
      "text/plain": [
       "<Figure size 720x720 with 1 Axes>"
      ]
     },
     "metadata": {
      "needs_background": "light"
     },
     "output_type": "display_data"
    }
   ],
   "source": [
    "from sklearn.preprocessing import OrdinalEncoder\n",
    "# TODO: insert your code for experiments\n",
    "###################################################\n",
    "##### YOUR CODE STARTS HERE #######################\n",
    "###################################################\n",
    "voting = pd.read_csv('voting.csv')\n",
    "#voting.info()\n",
    "data=voting.copy()\n",
    "data=data.dropna(axis=0,how='any').reset_index()#drop all items which contain 'NAN'\n",
    "X=data[data.columns[2:]]\n",
    "y=np.array(data[['label']].values.tolist()).reshape(len(data['label']))\n",
    "ordinal_encoder = OrdinalEncoder()\n",
    "X_encoding = ordinal_encoder.fit_transform(X).astype(int)\n",
    "nbc_voting = NBC(feature_types=['b','b','b','b','b','b','b','b','b','b','b','b','b','b','b','b'], num_classes=2)\n",
    "lr_voting = LogisticRegression(solver='newton-cg')\n",
    "tst_errs_nbc_voting, tst_errs_lr_voting=compareNBCvsLR(nbc_voting, lr_voting, X_encoding, y, num_runs=10)\n",
    "makePlot(tst_errs_nbc_voting,tst_errs_lr_voting)\n",
    "###################################################\n",
    "##### YOUR CODE ENDS HERE #########################\n",
    "###################################################"
   ]
  },
  {
   "cell_type": "markdown",
   "metadata": {},
   "source": [
    "**Dataset 3: Car Evaluation Dataset**\n",
    "\n",
    "https://archive.ics.uci.edu/ml/datasets/car+evaluation"
   ]
  },
  {
   "cell_type": "code",
   "execution_count": null,
   "metadata": {},
   "outputs": [],
   "source": [
    "# TODO: insert your code for experiments\n",
    "###################################################\n",
    "##### YOUR CODE STARTS HERE #######################\n",
    "###################################################\n",
    "car = pd.read_csv('./datasets/car.csv')\n",
    "car.info()\n",
    "###################################################\n",
    "##### YOUR CODE ENDS HERE #########################\n",
    "###################################################"
   ]
  },
  {
   "cell_type": "markdown",
   "metadata": {},
   "source": [
    "**Dataset 4: Breast Cancer Dataset**\n",
    "\n",
    "https://archive.ics.uci.edu/ml/datasets/breast+cancer"
   ]
  },
  {
   "cell_type": "code",
   "execution_count": null,
   "metadata": {},
   "outputs": [],
   "source": [
    "# TODO: insert your code for experiments\n",
    "###################################################\n",
    "##### YOUR CODE STARTS HERE #######################\n",
    "###################################################\n",
    "cancer = pd.read_csv('./datasets/breast-cancer.csv')\n",
    "cancer.info()\n",
    "###################################################\n",
    "##### YOUR CODE ENDS HERE #########################\n",
    "###################################################"
   ]
  },
  {
   "cell_type": "markdown",
   "metadata": {},
   "source": [
    "**Dataset 5: Ionosphere Dataset**\n",
    "\n",
    "https://archive.ics.uci.edu/ml/datasets/ionosphere"
   ]
  },
  {
   "cell_type": "code",
   "execution_count": null,
   "metadata": {},
   "outputs": [],
   "source": [
    "# TODO: insert your code for experiments\n",
    "###################################################\n",
    "##### YOUR CODE STARTS HERE #######################\n",
    "###################################################\n",
    "ionosphere = pd.read_csv('./datasets/ionosphere.csv')\n",
    "ionosphere.info()\n",
    "###################################################\n",
    "##### YOUR CODE ENDS HERE #########################\n",
    "###################################################"
   ]
  },
  {
   "cell_type": "markdown",
   "metadata": {},
   "source": [
    "**Dataset 6: Sonar Dataset**\n",
    "\n",
    "http://archive.ics.uci.edu/ml/datasets/connectionist+bench+%28sonar,+mines+vs.+rocks%29"
   ]
  },
  {
   "cell_type": "code",
   "execution_count": null,
   "metadata": {},
   "outputs": [],
   "source": [
    "# TODO: insert your code for experiments\n",
    "###################################################\n",
    "##### YOUR CODE STARTS HERE #######################\n",
    "###################################################\n",
    "sonar = pd.read_csv('./datasets/sonar.csv')\n",
    "sonar.info()\n",
    "###################################################\n",
    "##### YOUR CODE ENDS HERE #########################\n",
    "###################################################"
   ]
  },
  {
   "cell_type": "code",
   "execution_count": null,
   "metadata": {},
   "outputs": [],
   "source": []
  },
  {
   "cell_type": "code",
   "execution_count": null,
   "metadata": {},
   "outputs": [],
   "source": []
  }
 ],
 "metadata": {
  "kernelspec": {
   "display_name": "Python 3",
   "language": "python",
   "name": "python3"
  },
  "language_info": {
   "codemirror_mode": {
    "name": "ipython",
    "version": 3
   },
   "file_extension": ".py",
   "mimetype": "text/x-python",
   "name": "python",
   "nbconvert_exporter": "python",
   "pygments_lexer": "ipython3",
   "version": "3.7.4"
  }
 },
 "nbformat": 4,
 "nbformat_minor": 4
}
